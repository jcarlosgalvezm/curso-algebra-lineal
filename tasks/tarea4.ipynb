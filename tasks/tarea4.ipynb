{
 "cells": [
  {
   "cell_type": "markdown",
   "metadata": {},
   "source": [
    "1."
   ]
  },
  {
   "cell_type": "code",
   "execution_count": 13,
   "metadata": {},
   "outputs": [
    {
     "name": "stdout",
     "output_type": "stream",
     "text": [
      "[[  4  -6   0  -6]\n",
      " [  9 -10   9  -6]\n",
      " [ -6  11   5  13]] \n",
      "\n",
      "[[ 0]\n",
      " [14]\n",
      " [-9]] \n",
      "\n",
      "[[ 1  2 -1]\n",
      " [-1 -2  2]\n",
      " [ 2  2  1]\n",
      " [ 1 -2  2]] \n",
      "\n",
      "[[ 3  8 -9]\n",
      " [-2 -9 14]\n",
      " [ 5  7 -1]\n",
      " [-2 -7 10]] \n",
      "\n",
      "[[ 0 14 -9]] \n",
      "\n"
     ]
    }
   ],
   "source": [
    "import numpy as np\n",
    "\n",
    "A = np.array([[0, 1, -2], [2, 3, -1], [1, -1, 5]])\n",
    "B = np.array([[1, -1, 2, 1], [2, -2, 2, -2], [-1, 2, 1, 2]])\n",
    "C = np.array([[2], [0], [1], [-4]])\n",
    "\n",
    "print(A.dot(B), '\\n')\n",
    "print(B.dot(C), '\\n')\n",
    "print(np.matrix.transpose(B), '\\n')\n",
    "print(np.matrix.transpose(B).dot(A), '\\n')\n",
    "print(np.matrix.transpose(C).dot(np.matrix.transpose(B)), '\\n')"
   ]
  },
  {
   "cell_type": "code",
   "execution_count": 10,
   "metadata": {},
   "outputs": [
    {
     "data": {
      "text/plain": [
       "array([[ 0,  2,  1],\n",
       "       [ 1,  3, -1],\n",
       "       [-2, -1,  5]])"
      ]
     },
     "execution_count": 10,
     "metadata": {},
     "output_type": "execute_result"
    }
   ],
   "source": [
    "np.matrix.transpose(A)"
   ]
  }
 ],
 "metadata": {
  "kernelspec": {
   "display_name": "Python 3",
   "language": "python",
   "name": "python3"
  },
  "language_info": {
   "codemirror_mode": {
    "name": "ipython",
    "version": 3
   },
   "file_extension": ".py",
   "mimetype": "text/x-python",
   "name": "python",
   "nbconvert_exporter": "python",
   "pygments_lexer": "ipython3",
   "version": "3.7.7"
  }
 },
 "nbformat": 4,
 "nbformat_minor": 4
}
